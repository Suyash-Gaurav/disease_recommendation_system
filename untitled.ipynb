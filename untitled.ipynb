{
 "cells": [
  {
   "cell_type": "code",
   "execution_count": 1,
   "metadata": {},
   "outputs": [
    {
     "name": "stdout",
     "output_type": "stream",
     "text": [
      "Path to dataset files: /Users/whiskey/.cache/kagglehub/datasets/noorsaeed/medicine-recommendation-system-dataset/versions/1\n"
     ]
    }
   ],
   "source": [
    "import kagglehub\n",
    "\n",
    "# Download latest version\n",
    "path = kagglehub.dataset_download(\"noorsaeed/medicine-recommendation-system-dataset\")\n",
    "\n",
    "print(\"Path to dataset files:\", path)"
   ]
  },
  {
   "cell_type": "code",
   "execution_count": 2,
   "metadata": {},
   "outputs": [],
   "source": [
    "import pandas as pd\n",
    "import numpy as np\n",
    "import matplotlib.pyplot as plt\n",
    "import seaborn as sns\n",
    "from sklearn.model_selection import train_test_split\n",
    "from sklearn.preprocessing import LabelEncoder\n",
    "\n"
   ]
  },
  {
   "cell_type": "code",
   "execution_count": 3,
   "metadata": {},
   "outputs": [],
   "source": [
    "import warnings\n",
    "warnings.filterwarnings('ignore')"
   ]
  },
  {
   "cell_type": "code",
   "execution_count": 4,
   "metadata": {},
   "outputs": [],
   "source": [
    "df = pd.read_csv('Training.csv')\n",
    "sym_des = pd.read_csv('symtoms_df.csv')\n",
    "precautions = pd.read_csv('precautions_df.csv')\n",
    "workout = pd.read_csv('workout_df.csv')\n",
    "description = pd.read_csv('description.csv')\n",
    "medications = pd.read_csv('medications.csv')\n",
    "diets = pd.read_csv('diets.csv')"
   ]
  },
  {
   "cell_type": "code",
   "execution_count": 5,
   "metadata": {},
   "outputs": [
    {
     "data": {
      "text/plain": [
       "<bound method NDFrame.head of       itching  skin_rash  nodal_skin_eruptions  continuous_sneezing  \\\n",
       "0           1          1                     1                    0   \n",
       "1           0          1                     1                    0   \n",
       "2           1          0                     1                    0   \n",
       "3           1          1                     0                    0   \n",
       "4           1          1                     1                    0   \n",
       "...       ...        ...                   ...                  ...   \n",
       "4915        0          0                     0                    0   \n",
       "4916        0          1                     0                    0   \n",
       "4917        0          0                     0                    0   \n",
       "4918        0          1                     0                    0   \n",
       "4919        0          1                     0                    0   \n",
       "\n",
       "      shivering  chills  joint_pain  stomach_pain  acidity  ulcers_on_tongue  \\\n",
       "0             0       0           0             0        0                 0   \n",
       "1             0       0           0             0        0                 0   \n",
       "2             0       0           0             0        0                 0   \n",
       "3             0       0           0             0        0                 0   \n",
       "4             0       0           0             0        0                 0   \n",
       "...         ...     ...         ...           ...      ...               ...   \n",
       "4915          0       0           0             0        0                 0   \n",
       "4916          0       0           0             0        0                 0   \n",
       "4917          0       0           0             0        0                 0   \n",
       "4918          0       0           1             0        0                 0   \n",
       "4919          0       0           0             0        0                 0   \n",
       "\n",
       "      ...  blackheads  scurring  skin_peeling  silver_like_dusting  \\\n",
       "0     ...           0         0             0                    0   \n",
       "1     ...           0         0             0                    0   \n",
       "2     ...           0         0             0                    0   \n",
       "3     ...           0         0             0                    0   \n",
       "4     ...           0         0             0                    0   \n",
       "...   ...         ...       ...           ...                  ...   \n",
       "4915  ...           0         0             0                    0   \n",
       "4916  ...           1         1             0                    0   \n",
       "4917  ...           0         0             0                    0   \n",
       "4918  ...           0         0             1                    1   \n",
       "4919  ...           0         0             0                    0   \n",
       "\n",
       "      small_dents_in_nails  inflammatory_nails  blister  red_sore_around_nose  \\\n",
       "0                        0                   0        0                     0   \n",
       "1                        0                   0        0                     0   \n",
       "2                        0                   0        0                     0   \n",
       "3                        0                   0        0                     0   \n",
       "4                        0                   0        0                     0   \n",
       "...                    ...                 ...      ...                   ...   \n",
       "4915                     0                   0        0                     0   \n",
       "4916                     0                   0        0                     0   \n",
       "4917                     0                   0        0                     0   \n",
       "4918                     1                   1        0                     0   \n",
       "4919                     0                   0        1                     1   \n",
       "\n",
       "      yellow_crust_ooze                                prognosis  \n",
       "0                     0                         Fungal infection  \n",
       "1                     0                         Fungal infection  \n",
       "2                     0                         Fungal infection  \n",
       "3                     0                         Fungal infection  \n",
       "4                     0                         Fungal infection  \n",
       "...                 ...                                      ...  \n",
       "4915                  0  (vertigo) Paroymsal  Positional Vertigo  \n",
       "4916                  0                                     Acne  \n",
       "4917                  0                  Urinary tract infection  \n",
       "4918                  0                                Psoriasis  \n",
       "4919                  1                                 Impetigo  \n",
       "\n",
       "[4920 rows x 133 columns]>"
      ]
     },
     "execution_count": 5,
     "metadata": {},
     "output_type": "execute_result"
    }
   ],
   "source": [
    "df.head\n"
   ]
  },
  {
   "cell_type": "code",
   "execution_count": 6,
   "metadata": {},
   "outputs": [
    {
     "data": {
      "text/plain": [
       "<bound method NDFrame.tail of       itching  skin_rash  nodal_skin_eruptions  continuous_sneezing  \\\n",
       "0           1          1                     1                    0   \n",
       "1           0          1                     1                    0   \n",
       "2           1          0                     1                    0   \n",
       "3           1          1                     0                    0   \n",
       "4           1          1                     1                    0   \n",
       "...       ...        ...                   ...                  ...   \n",
       "4915        0          0                     0                    0   \n",
       "4916        0          1                     0                    0   \n",
       "4917        0          0                     0                    0   \n",
       "4918        0          1                     0                    0   \n",
       "4919        0          1                     0                    0   \n",
       "\n",
       "      shivering  chills  joint_pain  stomach_pain  acidity  ulcers_on_tongue  \\\n",
       "0             0       0           0             0        0                 0   \n",
       "1             0       0           0             0        0                 0   \n",
       "2             0       0           0             0        0                 0   \n",
       "3             0       0           0             0        0                 0   \n",
       "4             0       0           0             0        0                 0   \n",
       "...         ...     ...         ...           ...      ...               ...   \n",
       "4915          0       0           0             0        0                 0   \n",
       "4916          0       0           0             0        0                 0   \n",
       "4917          0       0           0             0        0                 0   \n",
       "4918          0       0           1             0        0                 0   \n",
       "4919          0       0           0             0        0                 0   \n",
       "\n",
       "      ...  blackheads  scurring  skin_peeling  silver_like_dusting  \\\n",
       "0     ...           0         0             0                    0   \n",
       "1     ...           0         0             0                    0   \n",
       "2     ...           0         0             0                    0   \n",
       "3     ...           0         0             0                    0   \n",
       "4     ...           0         0             0                    0   \n",
       "...   ...         ...       ...           ...                  ...   \n",
       "4915  ...           0         0             0                    0   \n",
       "4916  ...           1         1             0                    0   \n",
       "4917  ...           0         0             0                    0   \n",
       "4918  ...           0         0             1                    1   \n",
       "4919  ...           0         0             0                    0   \n",
       "\n",
       "      small_dents_in_nails  inflammatory_nails  blister  red_sore_around_nose  \\\n",
       "0                        0                   0        0                     0   \n",
       "1                        0                   0        0                     0   \n",
       "2                        0                   0        0                     0   \n",
       "3                        0                   0        0                     0   \n",
       "4                        0                   0        0                     0   \n",
       "...                    ...                 ...      ...                   ...   \n",
       "4915                     0                   0        0                     0   \n",
       "4916                     0                   0        0                     0   \n",
       "4917                     0                   0        0                     0   \n",
       "4918                     1                   1        0                     0   \n",
       "4919                     0                   0        1                     1   \n",
       "\n",
       "      yellow_crust_ooze                                prognosis  \n",
       "0                     0                         Fungal infection  \n",
       "1                     0                         Fungal infection  \n",
       "2                     0                         Fungal infection  \n",
       "3                     0                         Fungal infection  \n",
       "4                     0                         Fungal infection  \n",
       "...                 ...                                      ...  \n",
       "4915                  0  (vertigo) Paroymsal  Positional Vertigo  \n",
       "4916                  0                                     Acne  \n",
       "4917                  0                  Urinary tract infection  \n",
       "4918                  0                                Psoriasis  \n",
       "4919                  1                                 Impetigo  \n",
       "\n",
       "[4920 rows x 133 columns]>"
      ]
     },
     "execution_count": 6,
     "metadata": {},
     "output_type": "execute_result"
    }
   ],
   "source": [
    "df.tail\n"
   ]
  },
  {
   "cell_type": "code",
   "execution_count": 7,
   "metadata": {},
   "outputs": [
    {
     "data": {
      "text/plain": [
       "(4920, 133)"
      ]
     },
     "execution_count": 7,
     "metadata": {},
     "output_type": "execute_result"
    }
   ],
   "source": [
    "df.shape"
   ]
  },
  {
   "cell_type": "code",
   "execution_count": 8,
   "metadata": {},
   "outputs": [
    {
     "data": {
      "text/plain": [
       "array(['Fungal infection', 'Allergy', 'GERD', 'Chronic cholestasis',\n",
       "       'Drug Reaction', 'Peptic ulcer diseae', 'AIDS', 'Diabetes ',\n",
       "       'Gastroenteritis', 'Bronchial Asthma', 'Hypertension ', 'Migraine',\n",
       "       'Cervical spondylosis', 'Paralysis (brain hemorrhage)', 'Jaundice',\n",
       "       'Malaria', 'Chicken pox', 'Dengue', 'Typhoid', 'hepatitis A',\n",
       "       'Hepatitis B', 'Hepatitis C', 'Hepatitis D', 'Hepatitis E',\n",
       "       'Alcoholic hepatitis', 'Tuberculosis', 'Common Cold', 'Pneumonia',\n",
       "       'Dimorphic hemmorhoids(piles)', 'Heart attack', 'Varicose veins',\n",
       "       'Hypothyroidism', 'Hyperthyroidism', 'Hypoglycemia',\n",
       "       'Osteoarthristis', 'Arthritis',\n",
       "       '(vertigo) Paroymsal  Positional Vertigo', 'Acne',\n",
       "       'Urinary tract infection', 'Psoriasis', 'Impetigo'], dtype=object)"
      ]
     },
     "execution_count": 8,
     "metadata": {},
     "output_type": "execute_result"
    }
   ],
   "source": [
    "df.prognosis.unique()"
   ]
  },
  {
   "cell_type": "code",
   "execution_count": 9,
   "metadata": {},
   "outputs": [
    {
     "data": {
      "text/plain": [
       "41"
      ]
     },
     "execution_count": 9,
     "metadata": {},
     "output_type": "execute_result"
    }
   ],
   "source": [
    "len(df.prognosis.unique())"
   ]
  },
  {
   "cell_type": "code",
   "execution_count": 10,
   "metadata": {},
   "outputs": [
    {
     "data": {
      "text/plain": [
       "np.int64(0)"
      ]
     },
     "execution_count": 10,
     "metadata": {},
     "output_type": "execute_result"
    }
   ],
   "source": [
    "df.prognosis.isnull().sum()"
   ]
  },
  {
   "cell_type": "code",
   "execution_count": 11,
   "metadata": {},
   "outputs": [],
   "source": [
    "X = df.drop(\"prognosis\" , axis = 1)\n",
    "y = df.prognosis\n"
   ]
  },
  {
   "cell_type": "code",
   "execution_count": 12,
   "metadata": {},
   "outputs": [
    {
     "data": {
      "text/plain": [
       "array([15, 15, 15, ..., 38, 35, 27])"
      ]
     },
     "execution_count": 12,
     "metadata": {},
     "output_type": "execute_result"
    }
   ],
   "source": [
    "label_encoder = LabelEncoder()\n",
    "label_encoder.fit(y)\n",
    "y = label_encoder.transform(y)\n",
    "y"
   ]
  },
  {
   "cell_type": "code",
   "execution_count": 13,
   "metadata": {},
   "outputs": [],
   "source": [
    "from sklearn.cluster import KMeans\n",
    "from sklearn.svm import SVC\n",
    "from sklearn.ensemble import RandomForestClassifier, GradientBoostingClassifier\n",
    "from sklearn.neighbors import KNeighborsClassifier\n",
    "from sklearn.naive_bayes import MultinomialNB\n"
   ]
  },
  {
   "cell_type": "code",
   "execution_count": 14,
   "metadata": {},
   "outputs": [],
   "source": [
    "# Apply KMeans clustering\n",
    "kmeans = KMeans(n_clusters=3, random_state=5)\n",
    "kmeans_labels = kmeans.fit_predict(X)\n",
    "\n",
    "# Add the cluster label as a new feature\n",
    "X_with_clusters = X.copy()\n",
    "X_with_clusters = np.column_stack((X_with_clusters, kmeans_labels))  # New feature for cluster labels\n"
   ]
  },
  {
   "cell_type": "code",
   "execution_count": 15,
   "metadata": {},
   "outputs": [],
   "source": [
    "X_train , X_valid , y_train , y_valid = train_test_split(X , y , random_state = 5 , test_size = 0.2 , train_size = 0.8)"
   ]
  },
  {
   "cell_type": "code",
   "execution_count": 16,
   "metadata": {},
   "outputs": [],
   "source": [
    "models = {\n",
    "      'SVC' : SVC(kernel='linear'),\n",
    "      'Random Forest' :RandomForestClassifier(random_state=5,n_estimators=100),\n",
    "      'KNeighbors' : KNeighborsClassifier(n_neighbors=5),\n",
    "      'Gradient Boosting': GradientBoostingClassifier(random_state=5,n_estimators=100),\n",
    "      'MultinomialNB' :MultinomialNB() }"
   ]
  },
  {
   "cell_type": "code",
   "execution_count": 17,
   "metadata": {},
   "outputs": [],
   "source": [
    "from sklearn.metrics import accuracy_score , confusion_matrix , mean_absolute_error"
   ]
  },
  {
   "cell_type": "code",
   "execution_count": 18,
   "metadata": {},
   "outputs": [
    {
     "name": "stdout",
     "output_type": "stream",
     "text": [
      "1.0\n",
      "[[17, 0, 0,..., 0, 0, 0],\n",
      " [ 0,23, 0,..., 0, 0, 0],\n",
      " [ 0, 0,23,..., 0, 0, 0],\n",
      " ...,\n",
      " [ 0, 0, 0,...,26, 0, 0],\n",
      " [ 0, 0, 0,..., 0,28, 0],\n",
      " [ 0, 0, 0,..., 0, 0,29]]\n",
      "------------------------------\n",
      "1.0\n",
      "[[17, 0, 0,..., 0, 0, 0],\n",
      " [ 0,23, 0,..., 0, 0, 0],\n",
      " [ 0, 0,23,..., 0, 0, 0],\n",
      " ...,\n",
      " [ 0, 0, 0,...,26, 0, 0],\n",
      " [ 0, 0, 0,..., 0,28, 0],\n",
      " [ 0, 0, 0,..., 0, 0,29]]\n",
      "------------------------------\n",
      "1.0\n",
      "[[17, 0, 0,..., 0, 0, 0],\n",
      " [ 0,23, 0,..., 0, 0, 0],\n",
      " [ 0, 0,23,..., 0, 0, 0],\n",
      " ...,\n",
      " [ 0, 0, 0,...,26, 0, 0],\n",
      " [ 0, 0, 0,..., 0,28, 0],\n",
      " [ 0, 0, 0,..., 0, 0,29]]\n",
      "------------------------------\n",
      "1.0\n",
      "[[17, 0, 0,..., 0, 0, 0],\n",
      " [ 0,23, 0,..., 0, 0, 0],\n",
      " [ 0, 0,23,..., 0, 0, 0],\n",
      " ...,\n",
      " [ 0, 0, 0,...,26, 0, 0],\n",
      " [ 0, 0, 0,..., 0,28, 0],\n",
      " [ 0, 0, 0,..., 0, 0,29]]\n",
      "------------------------------\n",
      "1.0\n",
      "[[17, 0, 0,..., 0, 0, 0],\n",
      " [ 0,23, 0,..., 0, 0, 0],\n",
      " [ 0, 0,23,..., 0, 0, 0],\n",
      " ...,\n",
      " [ 0, 0, 0,...,26, 0, 0],\n",
      " [ 0, 0, 0,..., 0,28, 0],\n",
      " [ 0, 0, 0,..., 0, 0,29]]\n",
      "------------------------------\n"
     ]
    }
   ],
   "source": [
    "for model in models.values() :\n",
    "    model.fit(X_train , y_train)\n",
    "    preds = model.predict(X_valid)\n",
    "    accuracy = accuracy_score(y_valid , preds)\n",
    "    cm = confusion_matrix(y_valid , preds)\n",
    "    print(accuracy)\n",
    "    print(np.array2string(cm , separator = \",\"))\n",
    "    print(\"------------------------------\")\n",
    "    "
   ]
  },
  {
   "cell_type": "code",
   "execution_count": 19,
   "metadata": {},
   "outputs": [
    {
     "data": {
      "text/plain": [
       "1.0"
      ]
     },
     "execution_count": 19,
     "metadata": {},
     "output_type": "execute_result"
    }
   ],
   "source": [
    "rf_model = RandomForestClassifier(n_estimators = 100)\n",
    "rf_model.fit(X_train , y_train)\n",
    "pred = rf_model.predict(X_valid)\n",
    "acc = accuracy_score(pred , y_valid)\n",
    "acc"
   ]
  },
  {
   "cell_type": "code",
   "execution_count": 20,
   "metadata": {},
   "outputs": [],
   "source": [
    "import pickle\n",
    "file_path = \"forest_model.pkl\"\n",
    "model_file = open(file_path , \"wb\")\n",
    "pickle.dump(rf_model , model_file)\n",
    "model_file.close()"
   ]
  },
  {
   "cell_type": "code",
   "execution_count": 21,
   "metadata": {},
   "outputs": [
    {
     "name": "stdout",
     "output_type": "stream",
     "text": [
      "SVC model loaded successfully.\n"
     ]
    }
   ],
   "source": [
    "import pickle\n",
    "\n",
    "# Load the saved SVC model\n",
    "with open('forest_model.pkl', 'rb') as file:\n",
    "    loaded_svc_model = pickle.load(file)\n",
    "\n",
    "print(\"SVC model loaded successfully.\")\n"
   ]
  },
  {
   "cell_type": "code",
   "execution_count": 22,
   "metadata": {},
   "outputs": [
    {
     "name": "stdout",
     "output_type": "stream",
     "text": [
      "Predicted Label : [18]\n",
      "Actual Label : 18\n"
     ]
    }
   ],
   "source": [
    "#test 1\n",
    "prediction1 = rf_model.predict(X_valid.iloc[[0]])\n",
    "print(\"Predicted Label :\",prediction1)\n",
    "print(\"Actual Label :\",y_valid[0])"
   ]
  },
  {
   "cell_type": "code",
   "execution_count": 23,
   "metadata": {},
   "outputs": [
    {
     "name": "stdout",
     "output_type": "stream",
     "text": [
      "Model Predictions : [40]\n",
      "Actual Labels : 40\n"
     ]
    }
   ],
   "source": [
    "print('Model Predictions :',rf_model.predict(X_valid.iloc[5].values.reshape(1,-1)))\n",
    "print('Actual Labels :', y_valid[5])"
   ]
  },
  {
   "cell_type": "code",
   "execution_count": 24,
   "metadata": {},
   "outputs": [
    {
     "name": "stdout",
     "output_type": "stream",
     "text": [
      "Model Predictions : [19]\n",
      "Actual Labels : 19\n"
     ]
    }
   ],
   "source": [
    "print('Model Predictions :',rf_model.predict(X_valid.iloc[13].values.reshape(1,-1)))\n",
    "print('Actual Labels :', y_valid[13])"
   ]
  },
  {
   "cell_type": "code",
   "execution_count": 30,
   "metadata": {},
   "outputs": [
    {
     "name": "stdout",
     "output_type": "stream",
     "text": [
      "\n",
      "Welcome to the Disease Prediction and Recommendation System!\n",
      "\n",
      "This tool helps you identify potential health conditions based on your symptoms.\n",
      "Simply select the symptoms you are experiencing, and the system will analyze them \n",
      "to provide the most likely diagnoses along with tailored recommendations for \n",
      "medications, precautions, workout suggestions, and dietary advice.\n",
      "\n",
      "Please follow the instructions to select your symptoms, and receive insights into\n",
      "possible health concerns and tips for management.\n",
      "\n",
      "Let's get started!\n",
      "\n",
      "\n",
      "Available Symptoms:\n",
      "1. Itching\n",
      "2. Skin rash\n",
      "3. Nodal skin eruptions\n",
      "4. Continuous sneezing\n",
      "5. Shivering\n",
      "6. Chills\n",
      "7. Joint pain\n",
      "8. Stomach pain\n",
      "9. Acidity\n",
      "10. Ulcers on tongue\n",
      "11. Muscle wasting\n",
      "12. Vomiting\n",
      "13. Burning micturition\n",
      "14. Spotting  urination\n",
      "15. Fatigue\n",
      "16. Weight gain\n",
      "17. Anxiety\n",
      "18. Cold hands and feets\n",
      "19. Mood swings\n",
      "20. Weight loss\n",
      "21. Restlessness\n",
      "22. Lethargy\n",
      "23. Patches in throat\n",
      "24. Irregular sugar level\n",
      "25. Cough\n",
      "26. High fever\n",
      "27. Sunken eyes\n",
      "28. Breathlessness\n",
      "29. Sweating\n",
      "30. Dehydration\n",
      "31. Indigestion\n",
      "32. Headache\n",
      "33. Yellowish skin\n",
      "34. Dark urine\n",
      "35. Nausea\n",
      "36. Loss of appetite\n",
      "37. Pain behind the eyes\n",
      "38. Back pain\n",
      "39. Constipation\n",
      "40. Abdominal pain\n",
      "41. Diarrhoea\n",
      "42. Mild fever\n",
      "43. Yellow urine\n",
      "44. Yellowing of eyes\n",
      "45. Acute liver failure\n",
      "46. Fluid overload\n",
      "47. Swelling of stomach\n",
      "48. Swelled lymph nodes\n",
      "49. Malaise\n",
      "50. Blurred and distorted vision\n",
      "51. Phlegm\n",
      "52. Throat irritation\n",
      "53. Redness of eyes\n",
      "54. Sinus pressure\n",
      "55. Runny nose\n",
      "56. Congestion\n",
      "57. Chest pain\n",
      "58. Weakness in limbs\n",
      "59. Fast heart rate\n",
      "60. Pain during bowel movements\n",
      "61. Pain in anal region\n",
      "62. Bloody stool\n",
      "63. Irritation in anus\n",
      "64. Neck pain\n",
      "65. Dizziness\n",
      "66. Cramps\n",
      "67. Bruising\n",
      "68. Obesity\n",
      "69. Swollen legs\n",
      "70. Swollen blood vessels\n",
      "71. Puffy face and eyes\n",
      "72. Enlarged thyroid\n",
      "73. Brittle nails\n",
      "74. Swollen extremeties\n",
      "75. Excessive hunger\n",
      "76. Extra marital contacts\n",
      "77. Drying and tingling lips\n",
      "78. Slurred speech\n",
      "79. Knee pain\n",
      "80. Hip joint pain\n",
      "81. Muscle weakness\n",
      "82. Stiff neck\n",
      "83. Swelling joints\n",
      "84. Movement stiffness\n",
      "85. Spinning movements\n",
      "86. Loss of balance\n",
      "87. Unsteadiness\n",
      "88. Weakness of one body side\n",
      "89. Loss of smell\n",
      "90. Bladder discomfort\n",
      "91. Foul smell of urine\n",
      "92. Continuous feel of urine\n",
      "93. Passage of gases\n",
      "94. Internal itching\n",
      "95. Toxic look (typhos)\n",
      "96. Depression\n",
      "97. Irritability\n",
      "98. Muscle pain\n",
      "99. Altered sensorium\n",
      "100. Red spots over body\n",
      "101. Belly pain\n",
      "102. Abnormal menstruation\n",
      "103. Dischromic  patches\n",
      "104. Watering from eyes\n",
      "105. Increased appetite\n",
      "106. Polyuria\n",
      "107. Family history\n",
      "108. Mucoid sputum\n",
      "109. Rusty sputum\n",
      "110. Lack of concentration\n",
      "111. Visual disturbances\n",
      "112. Receiving blood transfusion\n",
      "113. Receiving unsterile injections\n",
      "114. Coma\n",
      "115. Stomach bleeding\n",
      "116. Distention of abdomen\n",
      "117. History of alcohol consumption\n",
      "118. Fluid overload.1\n",
      "119. Blood in sputum\n",
      "120. Prominent veins on calf\n",
      "121. Palpitations\n",
      "122. Painful walking\n",
      "123. Pus filled pimples\n",
      "124. Blackheads\n",
      "125. Scurring\n",
      "126. Skin peeling\n",
      "127. Silver like dusting\n",
      "128. Small dents in nails\n",
      "129. Inflammatory nails\n",
      "130. Blister\n",
      "131. Red sore around nose\n",
      "132. Yellow crust ooze\n",
      "\n",
      "Enter the numbers of your symptoms separated by commas (e.g., 1, 3, 5):\n",
      "\n",
      "Disease Predictions and Recommendations:\n",
      "\n",
      "Rank 1: Urinary tract infection (Confidence: 14.00%)\n",
      "  Description: Urinary tract infection is an infection in any part of the urinary system.\n",
      "  Medication: ['Antibiotics', 'Urinary analgesics', 'Phenazopyridine', 'Antispasmodics', 'Probiotics']\n",
      "  Precautions: exercise, use hot and cold therapy, try acupuncture, massage\n",
      "  Workout: Limit processed foods\n",
      "  Diet: ['UTI Diet', 'Hydration', 'Cranberry juice', 'Probiotics', 'Vitamin C-rich foods']\n",
      "\n",
      "----------------------------------------\n",
      "Rank 2: Dimorphic hemmorhoids(piles) (Confidence: 12.00%)\n",
      "  Description: Dimorphic hemmorhoids(piles) is a condition characterized by swollen blood vessels in the rectum.\n",
      "  Medication: ['Nitroglycerin', 'Aspirin', 'Beta-blockers', 'Calcium channel blockers', 'Thrombolytic drugs']\n",
      "  Precautions: Consult nearest hospital, vaccination, eat healthy, medication\n",
      "  Workout: Stay hydrated\n",
      "  Diet: ['Hemorrhoids Diet', 'High-Fiber Diet', 'Hydration', 'Warm baths', 'Stool softeners']\n",
      "\n",
      "----------------------------------------\n",
      "Rank 3: Allergy (Confidence: 9.00%)\n",
      "  Description: Allergy is an immune system reaction to a substance in the environment.\n",
      "  Medication: ['Antihistamines', 'Decongestants', 'Epinephrine', 'Corticosteroids', 'Immunotherapy']\n",
      "  Precautions: Consult nearest hospital, avoid oily food, avoid non veg food, keep mosquitos out\n",
      "  Workout: Consume probiotics\n",
      "  Diet: ['Elimination Diet', 'Omega-3-rich foods', 'Vitamin C-rich foods', 'Quercetin-rich foods', 'Probiotics']\n",
      "\n",
      "----------------------------------------\n"
     ]
    }
   ],
   "source": [
    "import pandas as pd\n",
    "import numpy as np\n",
    "import pickle\n",
    "from sklearn.ensemble import RandomForestClassifier\n",
    "from sklearn.preprocessing import LabelEncoder\n",
    "\n",
    "# Load necessary files and data\n",
    "df = pd.read_csv('Training.csv')\n",
    "medications = pd.read_csv('medications.csv')\n",
    "description = pd.read_csv('description.csv')\n",
    "precautions = pd.read_csv('precautions_df.csv')\n",
    "workout = pd.read_csv('workout_df.csv')\n",
    "diets = pd.read_csv('diets.csv')\n",
    "\n",
    "# Load the trained model and label encoder\n",
    "with open('forest_model.pkl', 'rb') as file:\n",
    "    model = pickle.load(file)\n",
    "\n",
    "# Initialize Label Encoder for inverse transforming predictions\n",
    "label_encoder = LabelEncoder()\n",
    "label_encoder.fit(df['prognosis'])\n",
    "\n",
    "# Prepare disease information dictionary\n",
    "disease_data = {\n",
    "    row[\"Disease\"]: {\n",
    "        \"medication\": row[\"Medication\"],\n",
    "        \"description\": description[\"Description\"].get(i, \"No description available\"),\n",
    "        \"precautions\": [\n",
    "            precautions[\"Precaution_1\"].get(i, \"N/A\"),\n",
    "            precautions[\"Precaution_2\"].get(i, \"N/A\"),\n",
    "            precautions[\"Precaution_3\"].get(i, \"N/A\"),\n",
    "            precautions[\"Precaution_4\"].get(i, \"N/A\")\n",
    "        ],\n",
    "        \"workout\": workout[\"workout\"].get(i, \"No workout information available\"),\n",
    "        \"diet\": diets[\"Diet\"].get(i, \"No diet information available\")\n",
    "    }\n",
    "    for i, row in medications.iterrows()\n",
    "}\n",
    "\n",
    "# List of all symptoms for reference\n",
    "all_symptoms = list(df.columns.drop(\"prognosis\"))\n",
    "\n",
    "def display_symptoms():\n",
    "    \"\"\"\n",
    "    Display all symptoms with index numbers for user selection.\n",
    "    \"\"\"\n",
    "    print(\"\\nAvailable Symptoms:\")\n",
    "    for idx, symptom in enumerate(all_symptoms, 1):\n",
    "        print(f\"{idx}. {symptom.replace('_', ' ').capitalize()}\")\n",
    "\n",
    "def get_user_symptoms():\n",
    "    \"\"\"\n",
    "    Prompt the user to select symptoms and return a dictionary of symptom presence.\n",
    "    \"\"\"\n",
    "    display_symptoms()\n",
    "    print(\"\\nEnter the numbers of your symptoms separated by commas (e.g., 1, 3, 5):\")\n",
    "    \n",
    "    # Collect user input and handle errors\n",
    "    try:\n",
    "        selected_numbers = input(\"Symptom numbers: \").strip()\n",
    "        selected_indices = [int(num) - 1 for num in selected_numbers.split(\",\") if num.isdigit() and 0 < int(num) <= len(all_symptoms)]\n",
    "    except ValueError:\n",
    "        print(\"Invalid input. Please enter numbers only.\")\n",
    "        return get_user_symptoms()\n",
    "    \n",
    "    # Initialize all symptoms as 0, mark selected symptoms as 1\n",
    "    symptom_input = {symptom: 0 for symptom in all_symptoms}\n",
    "    for idx in selected_indices:\n",
    "        symptom_input[all_symptoms[idx]] = 1\n",
    "    \n",
    "    return symptom_input\n",
    "\n",
    "def get_disease_recommendations(symptom_input, top_n=3):\n",
    "    \"\"\"\n",
    "    Predicts diseases and provides recommendations for the top N diseases.\n",
    "    \"\"\"\n",
    "    symptoms_df = pd.DataFrame([symptom_input])\n",
    "    probabilities = model.predict_proba(symptoms_df)[0]\n",
    "    top_indices = np.argsort(probabilities)[-top_n:][::-1]\n",
    "    top_diseases = label_encoder.inverse_transform(top_indices)\n",
    "    \n",
    "    recommendations = []\n",
    "    for i, disease in enumerate(top_diseases):\n",
    "        details = disease_data.get(disease, {})\n",
    "        recommendations.append({\n",
    "            \"rank\": i + 1,\n",
    "            \"disease\": disease,\n",
    "            \"confidence\": f\"{probabilities[top_indices[i]]:.2%}\",\n",
    "            \"description\": details.get(\"description\", \"No description available\"),\n",
    "            \"medication\": details.get(\"medication\", \"No medication information available\"),\n",
    "            \"precautions\": \", \".join(str(p) for p in details.get(\"precautions\", [\"N/A\"])),\n",
    "            \"workout\": details.get(\"workout\", \"No workout information available\"),\n",
    "            \"diet\": details.get(\"diet\", \"No diet information available\")\n",
    "        })\n",
    "    return recommendations\n",
    "\n",
    "def display_recommendations(recommendations):\n",
    "    \"\"\"\n",
    "    Print formatted recommendations for the user.\n",
    "    \"\"\"\n",
    "    print(\"\\nDisease Predictions and Recommendations:\\n\")\n",
    "    for rec in recommendations:\n",
    "        print(f\"Rank {rec['rank']}: {rec['disease']} (Confidence: {rec['confidence']})\")\n",
    "        print(f\"  Description: {rec['description']}\")\n",
    "        print(f\"  Medication: {rec['medication']}\")\n",
    "        print(f\"  Precautions: {rec['precautions']}\")\n",
    "        print(f\"  Workout: {rec['workout']}\")\n",
    "        print(f\"  Diet: {rec['diet']}\\n\")\n",
    "        print(\"-\" * 40)\n",
    "\n",
    "def run_disease_recommendation():\n",
    "    \"\"\"\n",
    "    Runs the complete process for user to input symptoms and receive recommendations.\n",
    "    \"\"\"\n",
    "    \n",
    "    \n",
    "    print(\"\"\"\n",
    "Welcome to the Disease Prediction and Recommendation System!\n",
    "\n",
    "This tool helps you identify potential health conditions based on your symptoms.\n",
    "Simply select the symptoms you are experiencing, and the system will analyze them \n",
    "to provide the most likely diagnoses along with tailored recommendations for \n",
    "medications, precautions, workout suggestions, and dietary advice.\n",
    "\n",
    "Please follow the instructions to select your symptoms, and receive insights into\n",
    "possible health concerns and tips for management.\n",
    "\n",
    "Let's get started!\n",
    "\"\"\")\n",
    "\n",
    "    symptom_input = get_user_symptoms()\n",
    "    recommendations = get_disease_recommendations(symptom_input, top_n=3)\n",
    "    display_recommendations(recommendations)\n",
    "\n",
    "# Start the recommendation system\n",
    "run_disease_recommendation()\n"
   ]
  },
  {
   "cell_type": "code",
   "execution_count": null,
   "metadata": {},
   "outputs": [],
   "source": []
  },
  {
   "cell_type": "code",
   "execution_count": null,
   "metadata": {},
   "outputs": [],
   "source": []
  }
 ],
 "metadata": {
  "kernelspec": {
   "display_name": "Python 3",
   "language": "python",
   "name": "python3"
  },
  "language_info": {
   "codemirror_mode": {
    "name": "ipython",
    "version": 3
   },
   "file_extension": ".py",
   "mimetype": "text/x-python",
   "name": "python",
   "nbconvert_exporter": "python",
   "pygments_lexer": "ipython3",
   "version": "3.10.0"
  }
 },
 "nbformat": 4,
 "nbformat_minor": 2
}
